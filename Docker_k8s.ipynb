{
 "cells": [
  {
   "cell_type": "code",
   "execution_count": 1,
   "metadata": {
    "slideshow": {
     "slide_type": "skip"
    }
   },
   "outputs": [
    {
     "data": {
      "text/plain": [
       "{'transition': 'zoom',\n",
       " 'start_slideshow_at': 'selected',\n",
       " 'footer': '<h3>Python Girona 2020</h3>'}"
      ]
     },
     "execution_count": 1,
     "metadata": {},
     "output_type": "execute_result"
    }
   ],
   "source": [
    "#!/usr/bin/env python3\n",
    "from traitlets.config.manager import BaseJSONConfigManager\n",
    "cm = BaseJSONConfigManager()\n",
    "cm.update(\n",
    "    \"rise\",\n",
    "    {\n",
    "        \"transition\": \"zoom\",\n",
    "        \"start_slideshow_at\": \"selected\",\n",
    "        \"footer\": \"<h3>Python Girona 2020</h3>\"\n",
    "    }\n",
    ")"
   ]
  },
  {
   "cell_type": "code",
   "execution_count": null,
   "metadata": {},
   "outputs": [],
   "source": []
  },
  {
   "cell_type": "markdown",
   "metadata": {
    "slideshow": {
     "slide_type": "slide"
    }
   },
   "source": [
    "# Containers and Orchestration: Docker and Kubernetes\n",
    "\n",
    "--------------------\n",
    "\n",
    "Python Girona - March 2020\n",
    "\n",
    "--------------------\n",
    "\n",
    "[Jordi Bagot](https://github.com/jbagot), [Xavi Torelló](https://github.com/XaviTorello)"
   ]
  },
  {
   "cell_type": "markdown",
   "metadata": {
    "slideshow": {
     "slide_type": "subslide"
    }
   },
   "source": [
    "## Python Girona\n",
    "\n",
    "![alt text](./pictures/python_girona_small.jpeg \"Python Girona\")"
   ]
  },
  {
   "cell_type": "markdown",
   "metadata": {
    "slideshow": {
     "slide_type": "fragment"
    }
   },
   "source": [
    "- [Meetup](https://www.meetup.com/es-ES/PythonGirona/)  JOIN US!"
   ]
  },
  {
   "cell_type": "markdown",
   "metadata": {
    "slideshow": {
     "slide_type": "fragment"
    }
   },
   "source": [
    "- Share knowledge"
   ]
  },
  {
   "cell_type": "markdown",
   "metadata": {
    "slideshow": {
     "slide_type": "fragment"
    }
   },
   "source": [
    "- Have fun"
   ]
  },
  {
   "cell_type": "markdown",
   "metadata": {
    "slideshow": {
     "slide_type": "fragment"
    }
   },
   "source": [
    "- Eat pizzas"
   ]
  },
  {
   "cell_type": "markdown",
   "metadata": {
    "slideshow": {
     "slide_type": "subslide"
    }
   },
   "source": [
    "## General Agenda"
   ]
  },
  {
   "cell_type": "markdown",
   "metadata": {
    "slideshow": {
     "slide_type": "fragment"
    }
   },
   "source": [
    "- 1) Explanation of Docker and examples"
   ]
  },
  {
   "cell_type": "markdown",
   "metadata": {
    "slideshow": {
     "slide_type": "fragment"
    }
   },
   "source": [
    "- 2) Explanation of docker-compose and examples"
   ]
  },
  {
   "cell_type": "markdown",
   "metadata": {
    "slideshow": {
     "slide_type": "fragment"
    }
   },
   "source": [
    "- 3) Create a Django + React + Postgres application using docker and docker-compose! (Workshop)"
   ]
  },
  {
   "cell_type": "markdown",
   "metadata": {
    "slideshow": {
     "slide_type": "fragment"
    }
   },
   "source": [
    "- 4) Introduction to Kubernetes"
   ]
  },
  {
   "cell_type": "markdown",
   "metadata": {
    "slideshow": {
     "slide_type": "subslide"
    }
   },
   "source": [
    "# Let's start!"
   ]
  },
  {
   "cell_type": "markdown",
   "metadata": {
    "slideshow": {
     "slide_type": "fragment"
    }
   },
   "source": [
    "\n",
    "![alt text](./pictures/ready.gif \"Ready\")"
   ]
  },
  {
   "cell_type": "markdown",
   "metadata": {
    "slideshow": {
     "slide_type": "subslide"
    }
   },
   "source": [
    "## Docker Agenda"
   ]
  },
  {
   "cell_type": "markdown",
   "metadata": {
    "slideshow": {
     "slide_type": "fragment"
    }
   },
   "source": [
    "- 1) What's docker?"
   ]
  },
  {
   "cell_type": "markdown",
   "metadata": {
    "slideshow": {
     "slide_type": "fragment"
    }
   },
   "source": [
    "- 2) How to create our images?"
   ]
  },
  {
   "cell_type": "markdown",
   "metadata": {
    "slideshow": {
     "slide_type": "fragment"
    }
   },
   "source": [
    "- 3) How to build our images?"
   ]
  },
  {
   "cell_type": "markdown",
   "metadata": {
    "slideshow": {
     "slide_type": "fragment"
    }
   },
   "source": [
    "- 4) How to create containers?"
   ]
  },
  {
   "cell_type": "markdown",
   "metadata": {
    "slideshow": {
     "slide_type": "fragment"
    }
   },
   "source": [
    "- 5) How to manipulate containers?"
   ]
  },
  {
   "cell_type": "markdown",
   "metadata": {
    "slideshow": {
     "slide_type": "subslide"
    }
   },
   "source": [
    "### 1) What's docker?"
   ]
  },
  {
   "cell_type": "markdown",
   "metadata": {
    "slideshow": {
     "slide_type": "fragment"
    }
   },
   "source": [
    "`Docker` is a platform for developers and sysadmins to develop, ship, and run applications"
   ]
  },
  {
   "cell_type": "markdown",
   "metadata": {
    "slideshow": {
     "slide_type": "fragment"
    }
   },
   "source": [
    "- `Docker Engine`: open source containerization technology"
   ]
  },
  {
   "cell_type": "markdown",
   "metadata": {
    "slideshow": {
     "slide_type": "fragment"
    }
   },
   "source": [
    "- `Docker Hub`: SaaS service for sharing and managing app stacks"
   ]
  },
  {
   "cell_type": "markdown",
   "metadata": {
    "slideshow": {
     "slide_type": "subslide"
    }
   },
   "source": [
    "Wait... let me go back, some years ago..."
   ]
  },
  {
   "cell_type": "markdown",
   "metadata": {
    "slideshow": {
     "slide_type": "subslide"
    }
   },
   "source": [
    "### One application in one physical server"
   ]
  },
  {
   "cell_type": "markdown",
   "metadata": {
    "slideshow": {
     "slide_type": "fragment"
    }
   },
   "source": [
    "![alt text](./pictures/physical_server.jpg \"Physical Server\")"
   ]
  },
  {
   "cell_type": "markdown",
   "metadata": {
    "slideshow": {
     "slide_type": "fragment"
    }
   },
   "source": [
    "### Problems:\n",
    "\n",
    "- Slow deployments\n",
    "- Complicate to scale\n",
    "- Expensive\n",
    "- Wasted resources"
   ]
  },
  {
   "cell_type": "markdown",
   "metadata": {
    "slideshow": {
     "slide_type": "subslide"
    }
   },
   "source": [
    "Little bit after..."
   ]
  },
  {
   "cell_type": "markdown",
   "metadata": {
    "slideshow": {
     "slide_type": "subslide"
    }
   },
   "source": [
    "### Hypervisor virtualization"
   ]
  },
  {
   "cell_type": "markdown",
   "metadata": {
    "slideshow": {
     "slide_type": "fragment"
    }
   },
   "source": [
    "\n",
    "![alt text](./pictures/hypervisor_virtualization.jpg \"Hypervisor virtualization\")"
   ]
  },
  {
   "cell_type": "markdown",
   "metadata": {
    "slideshow": {
     "slide_type": "subslide"
    }
   },
   "source": [
    "### Advantages:\n",
    "\n",
    "- One server have multiple applications\n",
    "- Better resources\n",
    "- VMs in the cloud as AWS, Digital Ocean, Azure...\n",
    "- Easier to scale\n"
   ]
  },
  {
   "cell_type": "markdown",
   "metadata": {
    "slideshow": {
     "slide_type": "fragment"
    }
   },
   "source": [
    "### Disadvantages:\n",
    "\n",
    "- Each VM has an OS\n",
    "- Each VM has hardware limitations: memory, CPU, ...\n",
    "- Application portability"
   ]
  },
  {
   "cell_type": "markdown",
   "metadata": {
    "slideshow": {
     "slide_type": "subslide"
    }
   },
   "source": [
    "and now..."
   ]
  },
  {
   "cell_type": "markdown",
   "metadata": {
    "slideshow": {
     "slide_type": "subslide"
    }
   },
   "source": [
    "### Docker!"
   ]
  },
  {
   "cell_type": "markdown",
   "metadata": {
    "slideshow": {
     "slide_type": "fragment"
    }
   },
   "source": [
    "![alt text](./pictures/docker_structure.jpg \"Docker Structure\")"
   ]
  },
  {
   "cell_type": "markdown",
   "metadata": {
    "slideshow": {
     "slide_type": "fragment"
    }
   },
   "source": [
    "### Advantages:\n",
    "\n",
    "- Speed, there is no OS to boot\n",
    "- Portability \n",
    "- Efficiency\n",
    "- Scalability"
   ]
  },
  {
   "cell_type": "markdown",
   "metadata": {
    "slideshow": {
     "slide_type": "subslide"
    }
   },
   "source": [
    "## What is a container?"
   ]
  },
  {
   "cell_type": "markdown",
   "metadata": {
    "slideshow": {
     "slide_type": "fragment"
    }
   },
   "source": [
    "- It is the unit where the application is embeded with its dependencies"
   ]
  },
  {
   "cell_type": "markdown",
   "metadata": {
    "slideshow": {
     "slide_type": "fragment"
    }
   },
   "source": [
    "- It is the result when an image is builded and ran"
   ]
  },
  {
   "cell_type": "markdown",
   "metadata": {
    "slideshow": {
     "slide_type": "fragment"
    }
   },
   "source": [
    "- Isolation"
   ]
  },
  {
   "cell_type": "markdown",
   "metadata": {
    "slideshow": {
     "slide_type": "fragment"
    }
   },
   "source": [
    "- Ready to run"
   ]
  },
  {
   "cell_type": "markdown",
   "metadata": {
    "slideshow": {
     "slide_type": "fragment"
    }
   },
   "source": [
    "- Portable, run everywhere"
   ]
  },
  {
   "cell_type": "markdown",
   "metadata": {
    "slideshow": {
     "slide_type": "subslide"
    }
   },
   "source": [
    "### Docker basics"
   ]
  },
  {
   "cell_type": "markdown",
   "metadata": {
    "slideshow": {
     "slide_type": "fragment"
    }
   },
   "source": [
    "![alt text](./pictures/docker_basics.png \"Docker Basics\")"
   ]
  },
  {
   "cell_type": "markdown",
   "metadata": {
    "slideshow": {
     "slide_type": "subslide"
    }
   },
   "source": [
    "### 2) How to create our images?"
   ]
  },
  {
   "cell_type": "markdown",
   "metadata": {
    "slideshow": {
     "slide_type": "fragment"
    }
   },
   "source": [
    "- With a file called `Dockerfile`"
   ]
  },
  {
   "cell_type": "markdown",
   "metadata": {
    "slideshow": {
     "slide_type": "fragment"
    }
   },
   "source": [
    "- It is like a recipe, with the needed ingredients (dependencies) and steps to create a dish (image)"
   ]
  },
  {
   "cell_type": "markdown",
   "metadata": {
    "slideshow": {
     "slide_type": "fragment"
    }
   },
   "source": [
    "- Defines the behaviour of the image"
   ]
  },
  {
   "cell_type": "markdown",
   "metadata": {
    "slideshow": {
     "slide_type": "fragment"
    }
   },
   "source": [
    "```\n",
    "FROM alpine:latest\n",
    "ADD . /app\n",
    "RUN make app\n",
    "CMD python /app/app.py\n",
    "```"
   ]
  },
  {
   "cell_type": "markdown",
   "metadata": {
    "slideshow": {
     "slide_type": "subslide"
    }
   },
   "source": [
    "#### Docker image"
   ]
  },
  {
   "cell_type": "markdown",
   "metadata": {
    "slideshow": {
     "slide_type": "fragment"
    }
   },
   "source": [
    "- Made by multiple layers"
   ]
  },
  {
   "cell_type": "markdown",
   "metadata": {
    "slideshow": {
     "slide_type": "fragment"
    }
   },
   "source": [
    "- The containers are created from the images"
   ]
  },
  {
   "cell_type": "markdown",
   "metadata": {
    "slideshow": {
     "slide_type": "fragment"
    }
   },
   "source": [
    "```\n",
    "$ docker images\n",
    "REPOSITORY                        TAG                 IMAGE ID            CREATED             SIZE\n",
    "shodand_scanner_scanner           latest              82daf18d5d92        11 days ago         551MB\n",
    "empireproject/empire              latest              527d5d78e7fc        3 months ago        1.19GB\n",
    "redis                             alpine              05097a3a0549        12 days ago         30MB\n",
    "redis                             2.8                 481995377a04        2 years ago         186MB\n",
    "elpaso/qgis-testing-environment   master              334775a61a4f        2 weeks ago         3.39GB\n",
    "docker_erp                        latest              285af92a3352        4 weeks ago         1.05GB\n",
    "ubuntu                            16.04               b9e15a5d1e1a        5 weeks ago         115MB\n",
    "python                            2.7                 4ee4ea2f0113        5 weeks ago         908MB\n",
    "mongo                             3.0                 fdab8031e252        5 months ago        232MB\n",
    "```"
   ]
  },
  {
   "cell_type": "markdown",
   "metadata": {
    "slideshow": {
     "slide_type": "subslide"
    }
   },
   "source": [
    "### 3) How to build our images?"
   ]
  },
  {
   "cell_type": "markdown",
   "metadata": {
    "slideshow": {
     "slide_type": "fragment"
    }
   },
   "source": [
    "- Build an image means create an image from the Dockerfile."
   ]
  },
  {
   "cell_type": "markdown",
   "metadata": {
    "slideshow": {
     "slide_type": "fragment"
    }
   },
   "source": [
    "- `docker build .` (in the Dockerfile path)"
   ]
  },
  {
   "cell_type": "markdown",
   "metadata": {
    "slideshow": {
     "slide_type": "fragment"
    }
   },
   "source": [
    "- This will download all the layers, for example an alpine, python and so on and will build all of them in one image, ready to be run"
   ]
  },
  {
   "cell_type": "markdown",
   "metadata": {
    "slideshow": {
     "slide_type": "subslide"
    }
   },
   "source": [
    "### 4) How to create containers?"
   ]
  },
  {
   "cell_type": "markdown",
   "metadata": {
    "slideshow": {
     "slide_type": "fragment"
    }
   },
   "source": [
    "- When we have the image built, execute: `docker run <image_name>`"
   ]
  },
  {
   "cell_type": "markdown",
   "metadata": {
    "slideshow": {
     "slide_type": "fragment"
    }
   },
   "source": [
    "[![asciicast](https://asciinema.org/a/309102.svg)](https://asciinema.org/a/309102?t=9)"
   ]
  },
  {
   "cell_type": "markdown",
   "metadata": {
    "slideshow": {
     "slide_type": "subslide"
    }
   },
   "source": [
    "### Container caracteristics"
   ]
  },
  {
   "cell_type": "markdown",
   "metadata": {
    "slideshow": {
     "slide_type": "fragment"
    }
   },
   "source": [
    "- **NOT persistents** (normally)"
   ]
  },
  {
   "cell_type": "markdown",
   "metadata": {
    "slideshow": {
     "slide_type": "fragment"
    }
   },
   "source": [
    "- Does **not expose** any container **port** to the host by default"
   ]
  },
  {
   "cell_type": "markdown",
   "metadata": {
    "slideshow": {
     "slide_type": "fragment"
    }
   },
   "source": [
    "- Does **not map** any host **resource** to the container by default"
   ]
  },
  {
   "cell_type": "markdown",
   "metadata": {
    "slideshow": {
     "slide_type": "subslide"
    }
   },
   "source": [
    "### 5) How to manipulate containers?"
   ]
  },
  {
   "cell_type": "markdown",
   "metadata": {
    "slideshow": {
     "slide_type": "fragment"
    }
   },
   "source": [
    "[![asciicast](https://asciinema.org/a/309106.svg)](https://asciinema.org/a/309106)"
   ]
  },
  {
   "cell_type": "markdown",
   "metadata": {
    "slideshow": {
     "slide_type": "fragment"
    }
   },
   "source": [
    "Reviewing existing containers:\n",
    "```\n",
    "docker ps                                   \n",
    "CONTAINER ID   IMAGE          COMMAND        CREATED        STATUS         PORTS          NAMES\n",
    "c06ea563da0e   python:3.8     \"bash\"         3 seconds ago  Up 2 seconds                  upbeat_taussig\n",
    "```"
   ]
  },
  {
   "cell_type": "markdown",
   "metadata": {
    "slideshow": {
     "slide_type": "subslide"
    }
   },
   "source": [
    "Use `-a` flag to see all (not just the started ones) \n",
    "\n",
    "```$ docker ps -a\n",
    "CONTAINER ID        IMAGE                              COMMAND                  CREATED             STATUS                     PORTS               NAMES\n",
    "c06ea563da0e        python:3.8                         \"bash\"                   2 minutes ago       Up 2 minutes                                   upbeat_taussig\n",
    "47cf55fd3aac        nginx                              \"nginx -g 'daemon of…\"   7 weeks ago         Exited (137) 4 weeks ago                       k8s_workshop_nginx_1\n",
    "285fa7d421c2        pentux/pygrn_k8s_workshop:latest   \"/entrypoint /start\"     7 weeks ago         Exited (137) 4 weeks ago                       k8s_workshop_django_1\n",
    "...\n",
    "...\n",
    "```"
   ]
  },
  {
   "cell_type": "markdown",
   "metadata": {
    "slideshow": {
     "slide_type": "subslide"
    }
   },
   "source": [
    "Start a container\n",
    "```\n",
    "$ docker start <container_name>\n",
    "```"
   ]
  },
  {
   "cell_type": "markdown",
   "metadata": {
    "slideshow": {
     "slide_type": "fragment"
    }
   },
   "source": [
    "Stop it!\n",
    "```\n",
    "$ docker stop <container_name>\n",
    "```"
   ]
  },
  {
   "cell_type": "markdown",
   "metadata": {
    "slideshow": {
     "slide_type": "fragment"
    }
   },
   "source": [
    "Delete it!\n",
    "```\n",
    "$ docker rm docker_erp\n",
    "```"
   ]
  },
  {
   "cell_type": "markdown",
   "metadata": {
    "slideshow": {
     "slide_type": "subslide"
    }
   },
   "source": [
    "## But I want to communicate with my container!!!!"
   ]
  },
  {
   "cell_type": "markdown",
   "metadata": {
    "slideshow": {
     "slide_type": "fragment"
    }
   },
   "source": [
    "- **Expose** ports with\n",
    "  - `- p $HOST_PORT:$CONTAINER_PORT` at run time\n",
    "    - i.e `-p 8081:8080` to expose the 8080 container port to 8081's host\n",
    "  - use the `EXPOSE $PORT` command in your `Dockerfile`"
   ]
  },
  {
   "cell_type": "markdown",
   "metadata": {
    "slideshow": {
     "slide_type": "fragment"
    }
   },
   "source": [
    "- **Mount** paths\n",
    "  - `- v $HOST_PATH:$CONTAINER_PATH` at run time\n",
    "  - see the difference mount vs `ADD` `Dockerfile` command"
   ]
  },
  {
   "cell_type": "markdown",
   "metadata": {
    "slideshow": {
     "slide_type": "subslide"
    }
   },
   "source": [
    "## But my application needs more than one service..."
   ]
  },
  {
   "cell_type": "markdown",
   "metadata": {
    "slideshow": {
     "slide_type": "fragment"
    }
   },
   "source": [
    "## docker-compose is your friend!\n",
    "![alt text](./pictures/old_friends.gif \"Friends\")"
   ]
  },
  {
   "cell_type": "markdown",
   "metadata": {
    "slideshow": {
     "slide_type": "slide"
    }
   },
   "source": [
    "## docker-compose Agenda"
   ]
  },
  {
   "cell_type": "markdown",
   "metadata": {
    "slideshow": {
     "slide_type": "fragment"
    }
   },
   "source": [
    "- 1) What's docker-compose?"
   ]
  },
  {
   "cell_type": "markdown",
   "metadata": {
    "slideshow": {
     "slide_type": "fragment"
    }
   },
   "source": [
    "- 2) How to create our compositions?"
   ]
  },
  {
   "cell_type": "markdown",
   "metadata": {
    "slideshow": {
     "slide_type": "fragment"
    }
   },
   "source": [
    "- 3) How to run our compositions?"
   ]
  },
  {
   "cell_type": "markdown",
   "metadata": {
    "slideshow": {
     "slide_type": "subslide"
    }
   },
   "source": [
    "### 1) What's docker-compose?"
   ]
  },
  {
   "cell_type": "markdown",
   "metadata": {
    "slideshow": {
     "slide_type": "fragment"
    }
   },
   "source": [
    "- With a single file we can manage multiple images, our images or external ones. Building or pulling them"
   ]
  },
  {
   "cell_type": "markdown",
   "metadata": {
    "slideshow": {
     "slide_type": "fragment"
    }
   },
   "source": [
    "- Run multiple containers at same time"
   ]
  },
  {
   "cell_type": "markdown",
   "metadata": {
    "slideshow": {
     "slide_type": "fragment"
    }
   },
   "source": [
    "- The containers will be connected with an internal network"
   ]
  },
  {
   "cell_type": "markdown",
   "metadata": {
    "slideshow": {
     "slide_type": "fragment"
    }
   },
   "source": [
    "- You can define how many replicas of each image you want"
   ]
  },
  {
   "cell_type": "markdown",
   "metadata": {
    "slideshow": {
     "slide_type": "subslide"
    }
   },
   "source": [
    "### 2) How to create our compositions?"
   ]
  },
  {
   "cell_type": "markdown",
   "metadata": {
    "slideshow": {
     "slide_type": "fragment"
    }
   },
   "source": [
    "An example of the YAML file:\n",
    "\n",
    "```\n",
    "version: '3'\n",
    "services:\n",
    "  web:\n",
    "    build: .\n",
    "    ports:\n",
    "     - \"5000:5000\"\n",
    "  redis:\n",
    "    image: \"redis:alpine\"\n",
    "\n",
    "```"
   ]
  },
  {
   "cell_type": "markdown",
   "metadata": {
    "slideshow": {
     "slide_type": "fragment"
    }
   },
   "source": [
    "this will provide two containers\n",
    "  - `web`: that uses local `Dockerfile` definition and binds the TCP#5000\n",
    "  - `redis`: that runs an `alpine` tagged `redis` image "
   ]
  },
  {
   "cell_type": "markdown",
   "metadata": {
    "slideshow": {
     "slide_type": "subslide"
    }
   },
   "source": [
    "### 3) How to run our compositions?"
   ]
  },
  {
   "cell_type": "markdown",
   "metadata": {
    "slideshow": {
     "slide_type": "fragment"
    }
   },
   "source": [
    "`docker-compose up` in the directory where you have the docker-compose.yml to run the composition.\n",
    "\n",
    "In the previous example:\n",
    "- 1) The web service have to build the docker file\n",
    "- 2) The redis service have to be pulled from Docker Hub\n",
    "- 3) Run both containers\n",
    "- 4) Create a network to interconnect both services"
   ]
  },
  {
   "cell_type": "markdown",
   "metadata": {
    "slideshow": {
     "slide_type": "fragment"
    }
   },
   "source": [
    "`docker-compose down` to stop all the containers"
   ]
  },
  {
   "cell_type": "markdown",
   "metadata": {
    "slideshow": {
     "slide_type": "subslide"
    }
   },
   "source": [
    "\n",
    "#### Review logs\n",
    "`$ docker-compose logs -f [$service]`\n",
    "\n",
    "####  Rescale service\n",
    "`$ docker-compose scale $service=4`\n",
    "\n",
    "#### Stream container events\n",
    "`$ docker-compose events --json`\n",
    "\n",
    "#### Drop an interactive shell\n",
    "\n",
    "`$ docker-compose -it exec $service bash`"
   ]
  },
  {
   "cell_type": "markdown",
   "metadata": {
    "slideshow": {
     "slide_type": "subslide"
    }
   },
   "source": [
    "### Docker Hub"
   ]
  },
  {
   "cell_type": "markdown",
   "metadata": {
    "slideshow": {
     "slide_type": "fragment"
    }
   },
   "source": [
    "- Repository with a lot of images ready to use"
   ]
  },
  {
   "cell_type": "markdown",
   "metadata": {
    "slideshow": {
     "slide_type": "fragment"
    }
   },
   "source": [
    "- Pull images from `Docker Hub` with Dockerfile"
   ]
  },
  {
   "cell_type": "markdown",
   "metadata": {
    "slideshow": {
     "slide_type": "fragment"
    }
   },
   "source": [
    "- Create your own repository. Ex: Gitlab registry"
   ]
  },
  {
   "cell_type": "markdown",
   "metadata": {
    "slideshow": {
     "slide_type": "fragment"
    }
   },
   "source": [
    "- Push your images to your repository or to `Docker Hub` with `docker push`"
   ]
  },
  {
   "cell_type": "markdown",
   "metadata": {
    "slideshow": {
     "slide_type": "subslide"
    }
   },
   "source": [
    "### Share your images!!! Share your knowledge!!!\n",
    "\n",
    "![Share!](./pictures/share.gif \"Share\")"
   ]
  },
  {
   "cell_type": "markdown",
   "metadata": {
    "slideshow": {
     "slide_type": "slide"
    }
   },
   "source": [
    "## Workshop time!"
   ]
  },
  {
   "cell_type": "markdown",
   "metadata": {
    "slideshow": {
     "slide_type": "subslide"
    }
   },
   "source": [
    "Now we're going to extend a real and **very, very very imporant project** with a `Composition`:"
   ]
  },
  {
   "cell_type": "markdown",
   "metadata": {
    "slideshow": {
     "slide_type": "fragment"
    }
   },
   "source": [
    "https://github.com/pygrn/todos_django\n",
    "\n",
    "\n",
    "![alt text](./pictures/troll.gif \"Troll\")"
   ]
  },
  {
   "cell_type": "markdown",
   "metadata": {
    "slideshow": {
     "slide_type": "fragment"
    }
   },
   "source": [
    "This is a `Django` project that serves an example TODOS `API` created by [@manelclos](https://github.com/manelclos)"
   ]
  },
  {
   "cell_type": "markdown",
   "metadata": {
    "slideshow": {
     "slide_type": "subslide"
    }
   },
   "source": [
    "### Prepare the repo"
   ]
  },
  {
   "cell_type": "markdown",
   "metadata": {
    "slideshow": {
     "slide_type": "fragment"
    }
   },
   "source": [
    "```bash\n",
    "$ git clone https://github.com/pygrn/todos_django.git .\n",
    "``` "
   ]
  },
  {
   "cell_type": "markdown",
   "metadata": {
    "slideshow": {
     "slide_type": "subslide"
    }
   },
   "source": [
    "### Create our build file"
   ]
  },
  {
   "cell_type": "markdown",
   "metadata": {
    "slideshow": {
     "slide_type": "fragment"
    }
   },
   "source": [
    "- Create a new file named `Dockerfile`"
   ]
  },
  {
   "cell_type": "markdown",
   "metadata": {
    "slideshow": {
     "slide_type": "subslide"
    }
   },
   "source": [
    "```dockerfile\n",
    "FROM python:3.6\n",
    "ENV PYTHONUNBUFFERED 1\n",
    "COPY . /code/\n",
    "WORKDIR /code\n",
    "RUN pip install -r requirements.txt\n",
    "```\n",
    "\n",
    ", that means:\n",
    "- use `python:3.6` public image, and extend it with\n",
    "- `export PYTHONUNBUFFERED=1`\n",
    "- copy all the repo code at `/code`\n",
    "- assume that current directory will be `/code`\n",
    "- process and install all project requirements"
   ]
  },
  {
   "cell_type": "markdown",
   "metadata": {
    "slideshow": {
     "slide_type": "subslide"
    }
   },
   "source": [
    "- Create the image*\n",
    "\n",
    "```bash\n",
    "docker build -t todos_django:latest .\n",
    "```\n",
    ", this will tag the resultant image as `todos_django:latest`"
   ]
  },
  {
   "cell_type": "markdown",
   "metadata": {
    "slideshow": {
     "slide_type": "fragment"
    }
   },
   "source": [
    "- Run the image, just to review what it contains*\n",
    "\n",
    "```bash\n",
    "docker run --rm -it todos_django:latest bash\n",
    "```\n",
    ", this will provide an interactive temporal container that uses our image and drops a shell"
   ]
  },
  {
   "cell_type": "markdown",
   "metadata": {
    "slideshow": {
     "slide_type": "subslide"
    }
   },
   "source": [
    "### Create our Composition"
   ]
  },
  {
   "cell_type": "markdown",
   "metadata": {
    "slideshow": {
     "slide_type": "fragment"
    }
   },
   "source": [
    "- Create a new file named `docker-compose.yml`"
   ]
  },
  {
   "cell_type": "markdown",
   "metadata": {
    "slideshow": {
     "slide_type": "subslide"
    }
   },
   "source": [
    "```yaml\n",
    "version: '3'\n",
    "services:\n",
    "  api:\n",
    "    build: .\n",
    "    volumes:\n",
    "      - .:/code\n",
    "    ports:\n",
    "      - \"81:8000\"\n",
    "    command: [\"python\", \"manage.py\", \"runserver\"]  \n",
    "```\n",
    "\n",
    ", that means:\n",
    "- hey \"mrs compose\", this is a version3 composition that should deploy a container serving the `api`\n",
    "- the image should be builded using our `Dockerfile`\n",
    "- at run time, `host` project directory should be mounted inside `container` `/code` folder\n",
    "- `container` `8000/tcp` will be exposed to `host` at `81/tcp`\n",
    "- once everything is ready the command `python manage.py runserver` will be executed to run our django app"
   ]
  },
  {
   "cell_type": "markdown",
   "metadata": {
    "slideshow": {
     "slide_type": "subslide"
    }
   },
   "source": [
    "#### , it works, but we should add a DB to our composition!\n",
    "\n",
    "```\n",
    "...\n",
    "api_1  |   File \"/usr/local/lib/python3.6/site-packages/django/db/backends/postgresql/base.py\", line 176, in get_new_connection\n",
    "api_1  |     connection = Database.connect(**conn_params)\n",
    "api_1  |   File \"/usr/local/lib/python3.6/site-packages/psycopg2/__init__.py\", line 130, in connect\n",
    "api_1  |     conn = _connect(dsn, connection_factory=connection_factory, **kwasync)\n",
    "api_1  | django.db.utils.OperationalError: could not connect to server: No such file or directory\n",
    "api_1  | \tIs the server running locally and accepting\n",
    "api_1  | \tconnections on Unix domain socket \"/var/run/postgresql/.s.PGSQL.5432\"?\n",
    "api_1  | \n",
    "```"
   ]
  },
  {
   "cell_type": "markdown",
   "metadata": {
    "slideshow": {
     "slide_type": "subslide"
    }
   },
   "source": [
    "```\n",
    "version: '3'\n",
    "services:\n",
    "    \n",
    "  db:\n",
    "    image: kartoza/postgis:latest\n",
    "    environment:\n",
    "      - POSTGRES_DB=a_database\n",
    "      - POSTGRES_USER=a_user\n",
    "      - POSTGRES_PASS=a_password\n",
    "      - ALLOW_IP_RANGE=0.0.0.0/0\n",
    "    ports:\n",
    "      - 35432:5432\n",
    "```\n",
    ", this will\n",
    "- provide a new service named `db` that will start a PostgreSQL with PostGIS extensions ready\n",
    "- creating a new database named `a_database`\n",
    "- granting access for `a_user:a_password`\n",
    "- allowing connections from any IP\n",
    "- exposing the container's psql port `5432` as host `35432`"
   ]
  },
  {
   "cell_type": "markdown",
   "metadata": {
    "slideshow": {
     "slide_type": "subslide"
    }
   },
   "source": [
    "### WTF?? Both containers are correctly defined, but the DB is not ready for our web\n",
    "\n",
    "```\n",
    "db_1   | 2019-03-05 15:37:23.354 UTC [40] LOG:  database system was shut down at 2019-02-01 14:24:17 UTC\n",
    "db_1   | 2019-03-05 15:37:23.388 UTC [27] LOG:  database system is ready to accept connections\n",
    "api_1  | Try to load extra settings: settings-production.py\n",
    "api_1  | Performing system checks...\n",
    "api_1  | \n",
    "api_1  | System check identified no issues (0 silenced).\n",
    "api_1  | Unhandled exception in thread started by <function check_errors.<locals>.wrapper at 0x7fdc5d447268>\n",
    "api_1  | Traceback (most recent call last):\n",
    "api_1  |   File \"/usr/local/lib/python3.6/site-packages/django/db/backends/base/base.py\", line 213, in ensure_connection\n",
    "api_1  |     self.connect()\n",
    "api_1  |   File \"/usr/local/lib/python3.6/site-packages/django/db/backends/base/base.py\", line 189, in connect\n",
    "api_1  |     self.connection = self.get_new_connection(conn_params)\n",
    "api_1  |   File \"/usr/local/lib/python3.6/site-packages/django/db/backends/postgresql/base.py\", line 176, in get_new_connection\n",
    "api_1  |     connection = Database.connect(**conn_params)\n",
    "api_1  |   File \"/usr/local/lib/python3.6/site-packages/psycopg2/__init__.py\", line 130, in connect\n",
    "api_1  |     conn = _connect(dsn, connection_factory=connection_factory, **kwasync)\n",
    "api_1  | psycopg2.OperationalError: could not connect to server: No such file or directory\n",
    "api_1  | \tIs the server running locally and accepting\n",
    "api_1  | \tconnections on Unix domain socket \"/var/run/postgresql/.s.PGSQL.5432\"?\n",
    "\n",
    "...\n",
    "...\n",
    "\n",
    "db_1   | postgres ready\n",
    "db_1   | Postgis is missing, installing now\n",
    "db_1   | Creating template postgis\n",
    "db_1   | Enabling template_postgis as a template\n",
    "db_1   | UPDATE 1\n",
    "db_1   | Loading postgis extension\n",
    "db_1   | CREATE EXTENSION\n",
    "db_1   | Enabling hstore in the template\n",
    "db_1   | CREATE EXTENSION\n",
    "db_1   | Enabling topology in the template\n",
    "db_1   | CREATE EXTENSION\n",
    "\n",
    "``` "
   ]
  },
  {
   "cell_type": "markdown",
   "metadata": {
    "slideshow": {
     "slide_type": "subslide"
    }
   },
   "source": [
    "### Solution: Use wait scripts!\n",
    "\n",
    "https://github.com/vishnubob/wait-for-it"
   ]
  },
  {
   "cell_type": "markdown",
   "metadata": {
    "slideshow": {
     "slide_type": "fragment"
    }
   },
   "source": [
    "- Fetch the `wait-for-it.sh` script and save it at `utils/wait-for-it.sh` //ensure that is executable!\n",
    "```bash\n",
    "$ mkdir -p utils && curl https://raw.githubusercontent.com/vishnubob/wait-for-it/master/wait-for-it.sh -o utils/wait-for-it.sh && chmod +x utils/wait-for-it.sh\n",
    "```"
   ]
  },
  {
   "cell_type": "markdown",
   "metadata": {
    "slideshow": {
     "slide_type": "fragment"
    }
   },
   "source": [
    "- Prepare an start script! `utils/start-server.sh` //it should be executable!\n",
    "\n",
    "\n",
    "```bash\n",
    "pip install -r requirements.txt\n",
    "python manage.py migrate\n",
    "python manage.py runserver 0.0.0.0:8000\n",
    "```\n",
    ", this will ensure to review requirements, apply latest pending migrations and start Django!"
   ]
  },
  {
   "cell_type": "markdown",
   "metadata": {
    "slideshow": {
     "slide_type": "subslide"
    }
   },
   "source": [
    "- Improve our composition to change `web` start command and define a depedency to `db`:\n",
    "\n",
    "```yaml\n",
    "  api:\n",
    "    build: .\n",
    "    volumes:\n",
    "      - .:/code\n",
    "    ports:\n",
    "      - \"81:8000\"\n",
    "    command: [\"bash\", \"./utils/wait-for-it.sh\", \"db:5432\", \"--\", \"bash\",  \"./utils/start-server.sh\"]\n",
    "    depends_on:\n",
    "      - db    \n",
    "```\n",
    ", this will start our Django once the `5432/tcp@db` is ready to accept connections!"
   ]
  },
  {
   "cell_type": "markdown",
   "metadata": {
    "slideshow": {
     "slide_type": "subslide"
    }
   },
   "source": [
    "### OK! Now our Django is waiting for the DB, but still breaking!\n",
    "\n",
    "We should review our `Django` config, **it needs some ENV vars to point to our backend**"
   ]
  },
  {
   "cell_type": "markdown",
   "metadata": {
    "slideshow": {
     "slide_type": "fragment"
    }
   },
   "source": [
    "```bash\n",
    "$ vi todos_project/settings-production.py\n",
    "\n",
    "DATABASES = {\n",
    "    'default': {\n",
    "        # 'ENGINE': 'django.db.backends.postgresql_psycopg2',\n",
    "        'ENGINE': 'django.db.backends.postgresql',\n",
    "        'NAME': os.environ.get('DB_NAME'),\n",
    "        'USER': os.environ.get('DB_USER'),\n",
    "        'PASSWORD': os.environ.get('DB_PASSWORD'),\n",
    "        'HOST': os.environ.get('DB_HOST'),\n",
    "        'PORT': os.environ.get('DB_PORT'),\n",
    "    },\n",
    "}\n",
    "ALLOWED_HOSTS = ['*']\n",
    "```"
   ]
  },
  {
   "cell_type": "markdown",
   "metadata": {
    "slideshow": {
     "slide_type": "subslide"
    }
   },
   "source": [
    "### Config the environment vars in the docker-compose file\n",
    "\n",
    "\n",
    "```yaml\n",
    "...\n",
    "\n",
    "  api:\n",
    "    environment:\n",
    "      - DB_HOST=${DB_HOST}\n",
    "      - DB_PORT=${DB_PORT}\n",
    "      - DB_NAME=${DB_NAME}\n",
    "      - DB_USER=${DB_USER}\n",
    "      - DB_PASSWORD=${DB_PASSWORD}\n",
    "\n",
    "...\n",
    "\n",
    "  db:\n",
    "    environment:\n",
    "      - POSTGRES_DB=${DB_NAME}\n",
    "      - POSTGRES_USER=${DB_USER}\n",
    "      - POSTGRES_PASS=${DB_PASSWORD}\n",
    "      - ALLOW_IP_RANGE=0.0.0.0/0\n",
    "```"
   ]
  },
  {
   "cell_type": "markdown",
   "metadata": {
    "slideshow": {
     "slide_type": "subslide"
    }
   },
   "source": [
    "- Create an `.env` file\n",
    "\n",
    "```bash\n",
    "DB_HOST=db\n",
    "DB_PORT=5432\n",
    "DB_NAME=todos\n",
    "DB_USER=todos\n",
    "DB_PASSWORD=this_is_not_a_secure_password\n",
    "```"
   ]
  },
  {
   "cell_type": "markdown",
   "metadata": {
    "slideshow": {
     "slide_type": "subslide"
    }
   },
   "source": [
    "### It's magic!! It works!!!\n",
    "\n",
    "http://0.0.0.0:81/api/v1/\n",
    "\n",
    "\n",
    "![alt text](./pictures/todos_api.png \"TODOs API\")"
   ]
  },
  {
   "cell_type": "markdown",
   "metadata": {
    "slideshow": {
     "slide_type": "subslide"
    }
   },
   "source": [
    "### It can be more intense...\n",
    "\n",
    "We'll try to integrate the `React` frontend created by [@francescarpi](http://github.com/francescarpi):\n",
    "\n",
    "https://github.com/pygrn/todos_react"
   ]
  },
  {
   "cell_type": "markdown",
   "metadata": {
    "slideshow": {
     "slide_type": "subslide"
    }
   },
   "source": [
    "### The idea is to show alternative ways to provide a container as a service"
   ]
  },
  {
   "cell_type": "markdown",
   "metadata": {
    "slideshow": {
     "slide_type": "fragment"
    }
   },
   "source": [
    "- Create another build script named `Dockerfile_frontend`"
   ]
  },
  {
   "cell_type": "markdown",
   "metadata": {
    "slideshow": {
     "slide_type": "subslide"
    }
   },
   "source": [
    "```Dockerfile\n",
    "# Use an alpine-based (ver small base) node image\n",
    "FROM node:alpine\n",
    "RUN apk update && apk upgrade && \\\n",
    "    apk add --no-cache bash git openssh\n",
    "    \n",
    "# Prepare our project and their dependencies\n",
    "RUN mkdir /code\n",
    "WORKDIR /code\n",
    "RUN git clone https://github.com/pygrn/todos_react . \n",
    "RUN sed -i 's;https://server3.microdisseny.com/apps/todos;http://localhost:81;g' src/lib/apiclient.js\n",
    "RUN yarn install\n",
    "\n",
    "# Directly upload the wait-for-it script to the image\n",
    "ADD utils/wait-for-it.sh ./\n",
    "RUN chmod +x wait-for-it.sh\n",
    "```"
   ]
  },
  {
   "cell_type": "markdown",
   "metadata": {
    "slideshow": {
     "slide_type": "subslide"
    }
   },
   "source": [
    "- Add the new service!\n",
    "\n",
    "```yaml\n",
    "...\n",
    "\n",
    "  web:\n",
    "    build: \n",
    "     context: ./\n",
    "     dockerfile: Dockerfile_frontend\n",
    "    command: [\"bash\", \"./wait-for-it.sh\", \"api:8000\", \"--\", \"yarn\",  \"start\"]\n",
    "    ports:\n",
    "      - \"80:3000\"\n",
    "    depends_on:\n",
    "      - api\n",
    "    restart: always\n",
    "```"
   ]
  },
  {
   "cell_type": "markdown",
   "metadata": {
    "slideshow": {
     "slide_type": "subslide"
    }
   },
   "source": [
    "**Now, you can check http://localhost ...**"
   ]
  },
  {
   "cell_type": "markdown",
   "metadata": {
    "slideshow": {
     "slide_type": "fragment"
    }
   },
   "source": [
    "![alt text](./pictures/please.gif \"Please\")"
   ]
  },
  {
   "cell_type": "markdown",
   "metadata": {
    "slideshow": {
     "slide_type": "slide"
    }
   },
   "source": [
    "## Kubernetes Agenda"
   ]
  },
  {
   "cell_type": "markdown",
   "metadata": {
    "slideshow": {
     "slide_type": "fragment"
    }
   },
   "source": [
    "- 1) What's Kubernetes?"
   ]
  },
  {
   "cell_type": "markdown",
   "metadata": {
    "slideshow": {
     "slide_type": "fragment"
    }
   },
   "source": [
    "- 2) Kubernetes structure"
   ]
  },
  {
   "cell_type": "markdown",
   "metadata": {
    "slideshow": {
     "slide_type": "subslide"
    }
   },
   "source": [
    "### 1) What's Kubernetes?"
   ]
  },
  {
   "cell_type": "markdown",
   "metadata": {
    "slideshow": {
     "slide_type": "fragment"
    }
   },
   "source": [
    "- Container orchestrator\n",
    "- The most famous one\n",
    "- Layer to manage a cluster of containers\n",
    "- Auto-scaling"
   ]
  },
  {
   "cell_type": "markdown",
   "metadata": {
    "slideshow": {
     "slide_type": "subslide"
    }
   },
   "source": [
    "### Container orchestrator\n",
    "\n",
    "- Easy deploy, gracefully, stateless\n",
    "- Replication: run X copies\n",
    "- Built-in load balancers\n",
    "- Auto-scaling: better resource use"
   ]
  },
  {
   "cell_type": "markdown",
   "metadata": {
    "slideshow": {
     "slide_type": "subslide"
    }
   },
   "source": [
    "### Layer to manage a cluster\n",
    "\n",
    "- Manifest: one file to define all your cluster\n",
    "- Automate cluster maintenance\n",
    "- Load balancers\n",
    "- Manage secrets"
   ]
  },
  {
   "cell_type": "markdown",
   "metadata": {
    "slideshow": {
     "slide_type": "subslide"
    }
   },
   "source": [
    "### Scalability\n",
    "\n",
    "- Specify number of container replicas\n",
    "- Auto pod scaling, based on CPU, memory or custom metrics\n",
    "- It's a cluster, add more nodes"
   ]
  },
  {
   "cell_type": "markdown",
   "metadata": {
    "slideshow": {
     "slide_type": "subslide"
    }
   },
   "source": [
    "### 2) Kubernetes structure\n",
    "\n",
    "- Pod\n",
    "- Service\n",
    "- Namespace\n",
    "- Node"
   ]
  },
  {
   "cell_type": "markdown",
   "metadata": {
    "slideshow": {
     "slide_type": "subslide"
    }
   },
   "source": [
    "![alt text](./pictures/kubernetes_cluster.png \"Kubernetes cluster\")"
   ]
  },
  {
   "cell_type": "markdown",
   "metadata": {
    "slideshow": {
     "slide_type": "subslide"
    }
   },
   "source": [
    "And **much much much more...**\n",
    "\n",
    "If you want more we can do another session"
   ]
  },
  {
   "cell_type": "markdown",
   "metadata": {
    "slideshow": {
     "slide_type": "slide"
    }
   },
   "source": [
    "## Resources:\n",
    "\n",
    "- https://www.slideshare.net/Docker/introduction-to-docker-2017"
   ]
  },
  {
   "cell_type": "markdown",
   "metadata": {
    "slideshow": {
     "slide_type": "slide"
    }
   },
   "source": [
    "# It's all!\n",
    "\n",
    "![Thanks!](pictures/thanks.gif \"Thanks\")"
   ]
  },
  {
   "cell_type": "markdown",
   "metadata": {
    "slideshow": {
     "slide_type": "slide"
    }
   },
   "source": [
    "# Questions?"
   ]
  }
 ],
 "metadata": {
  "celltoolbar": "Slideshow",
  "kernelspec": {
   "display_name": "Python 3",
   "language": "python",
   "name": "python3"
  },
  "language_info": {
   "codemirror_mode": {
    "name": "ipython",
    "version": 3
   },
   "file_extension": ".py",
   "mimetype": "text/x-python",
   "name": "python",
   "nbconvert_exporter": "python",
   "pygments_lexer": "ipython3",
   "version": "3.6.8"
  }
 },
 "nbformat": 4,
 "nbformat_minor": 2
}
